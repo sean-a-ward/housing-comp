{
 "cells": [
  {
   "cell_type": "markdown",
   "metadata": {},
   "source": [
    "---\n",
    "## Data Prep"
   ]
  },
  {
   "cell_type": "markdown",
   "metadata": {},
   "source": [
    "### Dataset Cleaning"
   ]
  },
  {
   "cell_type": "code",
   "execution_count": 1,
   "metadata": {},
   "outputs": [],
   "source": [
    "import numpy as np\n",
    "import pandas as pd\n",
    "import matplotlib.pyplot as plt\n",
    "import seaborn as sns\n",
    "\n",
    "%matplotlib inline\n",
    "\n",
    "from time import time\n",
    "from src.features import build_features as bf\n",
    "from sklearn.preprocessing import MinMaxScaler\n",
    "from sklearn.model_selection import GridSearchCV\n",
    "from sklearn.metrics import make_scorer\n",
    "from sklearn.ensemble import AdaBoostRegressor\n",
    "from sklearn.ensemble import RandomForestRegressor\n",
    "from sklearn.metrics import fbeta_score, accuracy_score\n",
    "from sklearn.model_selection import train_test_split\n",
    "from sklearn.preprocessing import StandardScaler\n",
    "from sklearn.preprocessing import OneHotEncoder\n",
    "\n",
    "from sklearn.experimental import enable_iterative_imputer\n",
    "from sklearn.impute import IterativeImputer, MissingIndicator\n",
    "from sklearn.pipeline import FeatureUnion, make_pipeline\n",
    "\n",
    "sns.set()"
   ]
  },
  {
   "cell_type": "markdown",
   "metadata": {},
   "source": [
    "---\n",
    "## Data Preprocessing"
   ]
  },
  {
   "cell_type": "code",
   "execution_count": 2,
   "metadata": {},
   "outputs": [],
   "source": [
    "features_raw = pd.read_csv('../data/interim/features_raw.csv', index_col='Id')\n",
    "target = pd.read_csv('../data/interim/target_raw.csv', index_col='Id', squeeze=True)"
   ]
  },
  {
   "cell_type": "code",
   "execution_count": 3,
   "metadata": {},
   "outputs": [
    {
     "data": {
      "text/html": [
       "<div>\n",
       "<style scoped>\n",
       "    .dataframe tbody tr th:only-of-type {\n",
       "        vertical-align: middle;\n",
       "    }\n",
       "\n",
       "    .dataframe tbody tr th {\n",
       "        vertical-align: top;\n",
       "    }\n",
       "\n",
       "    .dataframe thead th {\n",
       "        text-align: right;\n",
       "    }\n",
       "</style>\n",
       "<table border=\"1\" class=\"dataframe\">\n",
       "  <thead>\n",
       "    <tr style=\"text-align: right;\">\n",
       "      <th></th>\n",
       "      <th>MSSubClass</th>\n",
       "      <th>MSZoning</th>\n",
       "      <th>LotFrontage</th>\n",
       "      <th>LotArea</th>\n",
       "      <th>Street</th>\n",
       "      <th>Alley</th>\n",
       "      <th>LotShape</th>\n",
       "      <th>LandContour</th>\n",
       "      <th>Utilities</th>\n",
       "      <th>LotConfig</th>\n",
       "      <th>...</th>\n",
       "      <th>ScreenPorch</th>\n",
       "      <th>PoolArea</th>\n",
       "      <th>PoolQC</th>\n",
       "      <th>Fence</th>\n",
       "      <th>MiscFeature</th>\n",
       "      <th>MiscVal</th>\n",
       "      <th>MoSold</th>\n",
       "      <th>YrSold</th>\n",
       "      <th>SaleType</th>\n",
       "      <th>SaleCondition</th>\n",
       "    </tr>\n",
       "    <tr>\n",
       "      <th>Id</th>\n",
       "      <th></th>\n",
       "      <th></th>\n",
       "      <th></th>\n",
       "      <th></th>\n",
       "      <th></th>\n",
       "      <th></th>\n",
       "      <th></th>\n",
       "      <th></th>\n",
       "      <th></th>\n",
       "      <th></th>\n",
       "      <th></th>\n",
       "      <th></th>\n",
       "      <th></th>\n",
       "      <th></th>\n",
       "      <th></th>\n",
       "      <th></th>\n",
       "      <th></th>\n",
       "      <th></th>\n",
       "      <th></th>\n",
       "      <th></th>\n",
       "      <th></th>\n",
       "    </tr>\n",
       "  </thead>\n",
       "  <tbody>\n",
       "    <tr>\n",
       "      <th>1</th>\n",
       "      <td>60</td>\n",
       "      <td>RL</td>\n",
       "      <td>65.0</td>\n",
       "      <td>8450</td>\n",
       "      <td>Pave</td>\n",
       "      <td>NaN</td>\n",
       "      <td>Reg</td>\n",
       "      <td>Lvl</td>\n",
       "      <td>AllPub</td>\n",
       "      <td>Inside</td>\n",
       "      <td>...</td>\n",
       "      <td>0</td>\n",
       "      <td>0</td>\n",
       "      <td>NaN</td>\n",
       "      <td>NaN</td>\n",
       "      <td>NaN</td>\n",
       "      <td>0</td>\n",
       "      <td>2</td>\n",
       "      <td>2008</td>\n",
       "      <td>WD</td>\n",
       "      <td>Normal</td>\n",
       "    </tr>\n",
       "    <tr>\n",
       "      <th>2</th>\n",
       "      <td>20</td>\n",
       "      <td>RL</td>\n",
       "      <td>80.0</td>\n",
       "      <td>9600</td>\n",
       "      <td>Pave</td>\n",
       "      <td>NaN</td>\n",
       "      <td>Reg</td>\n",
       "      <td>Lvl</td>\n",
       "      <td>AllPub</td>\n",
       "      <td>FR2</td>\n",
       "      <td>...</td>\n",
       "      <td>0</td>\n",
       "      <td>0</td>\n",
       "      <td>NaN</td>\n",
       "      <td>NaN</td>\n",
       "      <td>NaN</td>\n",
       "      <td>0</td>\n",
       "      <td>5</td>\n",
       "      <td>2007</td>\n",
       "      <td>WD</td>\n",
       "      <td>Normal</td>\n",
       "    </tr>\n",
       "    <tr>\n",
       "      <th>3</th>\n",
       "      <td>60</td>\n",
       "      <td>RL</td>\n",
       "      <td>68.0</td>\n",
       "      <td>11250</td>\n",
       "      <td>Pave</td>\n",
       "      <td>NaN</td>\n",
       "      <td>IR1</td>\n",
       "      <td>Lvl</td>\n",
       "      <td>AllPub</td>\n",
       "      <td>Inside</td>\n",
       "      <td>...</td>\n",
       "      <td>0</td>\n",
       "      <td>0</td>\n",
       "      <td>NaN</td>\n",
       "      <td>NaN</td>\n",
       "      <td>NaN</td>\n",
       "      <td>0</td>\n",
       "      <td>9</td>\n",
       "      <td>2008</td>\n",
       "      <td>WD</td>\n",
       "      <td>Normal</td>\n",
       "    </tr>\n",
       "    <tr>\n",
       "      <th>4</th>\n",
       "      <td>70</td>\n",
       "      <td>RL</td>\n",
       "      <td>60.0</td>\n",
       "      <td>9550</td>\n",
       "      <td>Pave</td>\n",
       "      <td>NaN</td>\n",
       "      <td>IR1</td>\n",
       "      <td>Lvl</td>\n",
       "      <td>AllPub</td>\n",
       "      <td>Corner</td>\n",
       "      <td>...</td>\n",
       "      <td>0</td>\n",
       "      <td>0</td>\n",
       "      <td>NaN</td>\n",
       "      <td>NaN</td>\n",
       "      <td>NaN</td>\n",
       "      <td>0</td>\n",
       "      <td>2</td>\n",
       "      <td>2006</td>\n",
       "      <td>WD</td>\n",
       "      <td>Abnorml</td>\n",
       "    </tr>\n",
       "    <tr>\n",
       "      <th>5</th>\n",
       "      <td>60</td>\n",
       "      <td>RL</td>\n",
       "      <td>84.0</td>\n",
       "      <td>14260</td>\n",
       "      <td>Pave</td>\n",
       "      <td>NaN</td>\n",
       "      <td>IR1</td>\n",
       "      <td>Lvl</td>\n",
       "      <td>AllPub</td>\n",
       "      <td>FR2</td>\n",
       "      <td>...</td>\n",
       "      <td>0</td>\n",
       "      <td>0</td>\n",
       "      <td>NaN</td>\n",
       "      <td>NaN</td>\n",
       "      <td>NaN</td>\n",
       "      <td>0</td>\n",
       "      <td>12</td>\n",
       "      <td>2008</td>\n",
       "      <td>WD</td>\n",
       "      <td>Normal</td>\n",
       "    </tr>\n",
       "  </tbody>\n",
       "</table>\n",
       "<p>5 rows × 79 columns</p>\n",
       "</div>"
      ],
      "text/plain": [
       "    MSSubClass MSZoning  LotFrontage  LotArea Street Alley LotShape  \\\n",
       "Id                                                                    \n",
       "1           60       RL         65.0     8450   Pave   NaN      Reg   \n",
       "2           20       RL         80.0     9600   Pave   NaN      Reg   \n",
       "3           60       RL         68.0    11250   Pave   NaN      IR1   \n",
       "4           70       RL         60.0     9550   Pave   NaN      IR1   \n",
       "5           60       RL         84.0    14260   Pave   NaN      IR1   \n",
       "\n",
       "   LandContour Utilities LotConfig  ... ScreenPorch PoolArea PoolQC Fence  \\\n",
       "Id                                  ...                                     \n",
       "1          Lvl    AllPub    Inside  ...           0        0    NaN   NaN   \n",
       "2          Lvl    AllPub       FR2  ...           0        0    NaN   NaN   \n",
       "3          Lvl    AllPub    Inside  ...           0        0    NaN   NaN   \n",
       "4          Lvl    AllPub    Corner  ...           0        0    NaN   NaN   \n",
       "5          Lvl    AllPub       FR2  ...           0        0    NaN   NaN   \n",
       "\n",
       "   MiscFeature MiscVal  MoSold  YrSold  SaleType  SaleCondition  \n",
       "Id                                                               \n",
       "1          NaN       0       2    2008        WD         Normal  \n",
       "2          NaN       0       5    2007        WD         Normal  \n",
       "3          NaN       0       9    2008        WD         Normal  \n",
       "4          NaN       0       2    2006        WD        Abnorml  \n",
       "5          NaN       0      12    2008        WD         Normal  \n",
       "\n",
       "[5 rows x 79 columns]"
      ]
     },
     "execution_count": 3,
     "metadata": {},
     "output_type": "execute_result"
    }
   ],
   "source": [
    "features_raw.head()"
   ]
  },
  {
   "cell_type": "code",
   "execution_count": 4,
   "metadata": {},
   "outputs": [
    {
     "data": {
      "text/plain": [
       "(1460, 79)"
      ]
     },
     "execution_count": 4,
     "metadata": {},
     "output_type": "execute_result"
    }
   ],
   "source": [
    "features_raw.shape"
   ]
  },
  {
   "cell_type": "code",
   "execution_count": 5,
   "metadata": {},
   "outputs": [
    {
     "data": {
      "text/plain": [
       "Int64Index([497, 524, 692, 1183, 1299], dtype='int64', name='Id')"
      ]
     },
     "execution_count": 5,
     "metadata": {},
     "output_type": "execute_result"
    }
   ],
   "source": [
    "df_zscore = pd.read_csv('../data/interim/df_zscore.csv', index_col='Id')\n",
    "outlier_idx = df_zscore[(df_zscore >= 5).any(1)].index\n",
    "outlier_idx"
   ]
  },
  {
   "cell_type": "markdown",
   "metadata": {},
   "source": [
    "### Handle Outliers"
   ]
  },
  {
   "cell_type": "code",
   "execution_count": 31,
   "metadata": {},
   "outputs": [
    {
     "ename": "KeyError",
     "evalue": "'[ 497  524  692 1183 1299] not found in axis'",
     "output_type": "error",
     "traceback": [
      "\u001b[0;31m---------------------------------------------------------------------------\u001b[0m",
      "\u001b[0;31mKeyError\u001b[0m                                  Traceback (most recent call last)",
      "\u001b[0;32m<ipython-input-31-4ca13d021793>\u001b[0m in \u001b[0;36m<module>\u001b[0;34m\u001b[0m\n\u001b[1;32m      1\u001b[0m \u001b[0mdf\u001b[0m \u001b[0;34m=\u001b[0m \u001b[0mfeatures_raw\u001b[0m\u001b[0;34m.\u001b[0m\u001b[0mdrop\u001b[0m\u001b[0;34m(\u001b[0m\u001b[0mindex\u001b[0m\u001b[0;34m=\u001b[0m\u001b[0moutlier_idx\u001b[0m\u001b[0;34m)\u001b[0m\u001b[0;34m\u001b[0m\u001b[0;34m\u001b[0m\u001b[0m\n\u001b[0;32m----> 2\u001b[0;31m \u001b[0mtarget\u001b[0m \u001b[0;34m=\u001b[0m \u001b[0mtarget\u001b[0m\u001b[0;34m.\u001b[0m\u001b[0mdrop\u001b[0m\u001b[0;34m(\u001b[0m\u001b[0mindex\u001b[0m\u001b[0;34m=\u001b[0m\u001b[0moutlier_idx\u001b[0m\u001b[0;34m)\u001b[0m\u001b[0;34m\u001b[0m\u001b[0;34m\u001b[0m\u001b[0m\n\u001b[0m\u001b[1;32m      3\u001b[0m \u001b[0mindex\u001b[0m \u001b[0;34m=\u001b[0m \u001b[0mdf\u001b[0m\u001b[0;34m.\u001b[0m\u001b[0mindex\u001b[0m\u001b[0;34m\u001b[0m\u001b[0;34m\u001b[0m\u001b[0m\n\u001b[1;32m      4\u001b[0m \u001b[0;34m\u001b[0m\u001b[0m\n\u001b[1;32m      5\u001b[0m \u001b[0;31m# Uncomment this line to save the DataFrames\u001b[0m\u001b[0;34m\u001b[0m\u001b[0;34m\u001b[0m\u001b[0;34m\u001b[0m\u001b[0m\n",
      "\u001b[0;32m~/anaconda3/envs/HousingEnv/lib/python3.8/site-packages/pandas/core/series.py\u001b[0m in \u001b[0;36mdrop\u001b[0;34m(self, labels, axis, index, columns, level, inplace, errors)\u001b[0m\n\u001b[1;32m   4495\u001b[0m         \u001b[0mdtype\u001b[0m\u001b[0;34m:\u001b[0m \u001b[0mfloat64\u001b[0m\u001b[0;34m\u001b[0m\u001b[0;34m\u001b[0m\u001b[0m\n\u001b[1;32m   4496\u001b[0m         \"\"\"\n\u001b[0;32m-> 4497\u001b[0;31m         return super().drop(\n\u001b[0m\u001b[1;32m   4498\u001b[0m             \u001b[0mlabels\u001b[0m\u001b[0;34m=\u001b[0m\u001b[0mlabels\u001b[0m\u001b[0;34m,\u001b[0m\u001b[0;34m\u001b[0m\u001b[0;34m\u001b[0m\u001b[0m\n\u001b[1;32m   4499\u001b[0m             \u001b[0maxis\u001b[0m\u001b[0;34m=\u001b[0m\u001b[0maxis\u001b[0m\u001b[0;34m,\u001b[0m\u001b[0;34m\u001b[0m\u001b[0;34m\u001b[0m\u001b[0m\n",
      "\u001b[0;32m~/anaconda3/envs/HousingEnv/lib/python3.8/site-packages/pandas/core/generic.py\u001b[0m in \u001b[0;36mdrop\u001b[0;34m(self, labels, axis, index, columns, level, inplace, errors)\u001b[0m\n\u001b[1;32m   3876\u001b[0m         \u001b[0;32mfor\u001b[0m \u001b[0maxis\u001b[0m\u001b[0;34m,\u001b[0m \u001b[0mlabels\u001b[0m \u001b[0;32min\u001b[0m \u001b[0maxes\u001b[0m\u001b[0;34m.\u001b[0m\u001b[0mitems\u001b[0m\u001b[0;34m(\u001b[0m\u001b[0;34m)\u001b[0m\u001b[0;34m:\u001b[0m\u001b[0;34m\u001b[0m\u001b[0;34m\u001b[0m\u001b[0m\n\u001b[1;32m   3877\u001b[0m             \u001b[0;32mif\u001b[0m \u001b[0mlabels\u001b[0m \u001b[0;32mis\u001b[0m \u001b[0;32mnot\u001b[0m \u001b[0;32mNone\u001b[0m\u001b[0;34m:\u001b[0m\u001b[0;34m\u001b[0m\u001b[0;34m\u001b[0m\u001b[0m\n\u001b[0;32m-> 3878\u001b[0;31m                 \u001b[0mobj\u001b[0m \u001b[0;34m=\u001b[0m \u001b[0mobj\u001b[0m\u001b[0;34m.\u001b[0m\u001b[0m_drop_axis\u001b[0m\u001b[0;34m(\u001b[0m\u001b[0mlabels\u001b[0m\u001b[0;34m,\u001b[0m \u001b[0maxis\u001b[0m\u001b[0;34m,\u001b[0m \u001b[0mlevel\u001b[0m\u001b[0;34m=\u001b[0m\u001b[0mlevel\u001b[0m\u001b[0;34m,\u001b[0m \u001b[0merrors\u001b[0m\u001b[0;34m=\u001b[0m\u001b[0merrors\u001b[0m\u001b[0;34m)\u001b[0m\u001b[0;34m\u001b[0m\u001b[0;34m\u001b[0m\u001b[0m\n\u001b[0m\u001b[1;32m   3879\u001b[0m \u001b[0;34m\u001b[0m\u001b[0m\n\u001b[1;32m   3880\u001b[0m         \u001b[0;32mif\u001b[0m \u001b[0minplace\u001b[0m\u001b[0;34m:\u001b[0m\u001b[0;34m\u001b[0m\u001b[0;34m\u001b[0m\u001b[0m\n",
      "\u001b[0;32m~/anaconda3/envs/HousingEnv/lib/python3.8/site-packages/pandas/core/generic.py\u001b[0m in \u001b[0;36m_drop_axis\u001b[0;34m(self, labels, axis, level, errors)\u001b[0m\n\u001b[1;32m   3910\u001b[0m                 \u001b[0mnew_axis\u001b[0m \u001b[0;34m=\u001b[0m \u001b[0maxis\u001b[0m\u001b[0;34m.\u001b[0m\u001b[0mdrop\u001b[0m\u001b[0;34m(\u001b[0m\u001b[0mlabels\u001b[0m\u001b[0;34m,\u001b[0m \u001b[0mlevel\u001b[0m\u001b[0;34m=\u001b[0m\u001b[0mlevel\u001b[0m\u001b[0;34m,\u001b[0m \u001b[0merrors\u001b[0m\u001b[0;34m=\u001b[0m\u001b[0merrors\u001b[0m\u001b[0;34m)\u001b[0m\u001b[0;34m\u001b[0m\u001b[0;34m\u001b[0m\u001b[0m\n\u001b[1;32m   3911\u001b[0m             \u001b[0;32melse\u001b[0m\u001b[0;34m:\u001b[0m\u001b[0;34m\u001b[0m\u001b[0;34m\u001b[0m\u001b[0m\n\u001b[0;32m-> 3912\u001b[0;31m                 \u001b[0mnew_axis\u001b[0m \u001b[0;34m=\u001b[0m \u001b[0maxis\u001b[0m\u001b[0;34m.\u001b[0m\u001b[0mdrop\u001b[0m\u001b[0;34m(\u001b[0m\u001b[0mlabels\u001b[0m\u001b[0;34m,\u001b[0m \u001b[0merrors\u001b[0m\u001b[0;34m=\u001b[0m\u001b[0merrors\u001b[0m\u001b[0;34m)\u001b[0m\u001b[0;34m\u001b[0m\u001b[0;34m\u001b[0m\u001b[0m\n\u001b[0m\u001b[1;32m   3913\u001b[0m             \u001b[0mresult\u001b[0m \u001b[0;34m=\u001b[0m \u001b[0mself\u001b[0m\u001b[0;34m.\u001b[0m\u001b[0mreindex\u001b[0m\u001b[0;34m(\u001b[0m\u001b[0;34m**\u001b[0m\u001b[0;34m{\u001b[0m\u001b[0maxis_name\u001b[0m\u001b[0;34m:\u001b[0m \u001b[0mnew_axis\u001b[0m\u001b[0;34m}\u001b[0m\u001b[0;34m)\u001b[0m\u001b[0;34m\u001b[0m\u001b[0;34m\u001b[0m\u001b[0m\n\u001b[1;32m   3914\u001b[0m \u001b[0;34m\u001b[0m\u001b[0m\n",
      "\u001b[0;32m~/anaconda3/envs/HousingEnv/lib/python3.8/site-packages/pandas/core/indexes/base.py\u001b[0m in \u001b[0;36mdrop\u001b[0;34m(self, labels, errors)\u001b[0m\n\u001b[1;32m   5274\u001b[0m         \u001b[0;32mif\u001b[0m \u001b[0mmask\u001b[0m\u001b[0;34m.\u001b[0m\u001b[0many\u001b[0m\u001b[0;34m(\u001b[0m\u001b[0;34m)\u001b[0m\u001b[0;34m:\u001b[0m\u001b[0;34m\u001b[0m\u001b[0;34m\u001b[0m\u001b[0m\n\u001b[1;32m   5275\u001b[0m             \u001b[0;32mif\u001b[0m \u001b[0merrors\u001b[0m \u001b[0;34m!=\u001b[0m \u001b[0;34m\"ignore\"\u001b[0m\u001b[0;34m:\u001b[0m\u001b[0;34m\u001b[0m\u001b[0;34m\u001b[0m\u001b[0m\n\u001b[0;32m-> 5276\u001b[0;31m                 \u001b[0;32mraise\u001b[0m \u001b[0mKeyError\u001b[0m\u001b[0;34m(\u001b[0m\u001b[0;34mf\"{labels[mask]} not found in axis\"\u001b[0m\u001b[0;34m)\u001b[0m\u001b[0;34m\u001b[0m\u001b[0;34m\u001b[0m\u001b[0m\n\u001b[0m\u001b[1;32m   5277\u001b[0m             \u001b[0mindexer\u001b[0m \u001b[0;34m=\u001b[0m \u001b[0mindexer\u001b[0m\u001b[0;34m[\u001b[0m\u001b[0;34m~\u001b[0m\u001b[0mmask\u001b[0m\u001b[0;34m]\u001b[0m\u001b[0;34m\u001b[0m\u001b[0;34m\u001b[0m\u001b[0m\n\u001b[1;32m   5278\u001b[0m         \u001b[0;32mreturn\u001b[0m \u001b[0mself\u001b[0m\u001b[0;34m.\u001b[0m\u001b[0mdelete\u001b[0m\u001b[0;34m(\u001b[0m\u001b[0mindexer\u001b[0m\u001b[0;34m)\u001b[0m\u001b[0;34m\u001b[0m\u001b[0;34m\u001b[0m\u001b[0m\n",
      "\u001b[0;31mKeyError\u001b[0m: '[ 497  524  692 1183 1299] not found in axis'"
     ]
    }
   ],
   "source": [
    "df = features_raw.drop(index=outlier_idx)\n",
    "target = target.drop(index=outlier_idx)\n",
    "index = df.index\n",
    "\n",
    "# Uncomment this line to save the DataFrames\n",
    "# target.to_csv('../data/interim/target_no_outliers.csv')"
   ]
  },
  {
   "cell_type": "code",
   "execution_count": 7,
   "metadata": {},
   "outputs": [
    {
     "data": {
      "text/plain": [
       "(1455, 79)"
      ]
     },
     "execution_count": 7,
     "metadata": {},
     "output_type": "execute_result"
    }
   ],
   "source": [
    "df.shape"
   ]
  },
  {
   "cell_type": "markdown",
   "metadata": {},
   "source": [
    "### Assess Missing Data"
   ]
  },
  {
   "cell_type": "markdown",
   "metadata": {},
   "source": [
    "#### Assess Missing Data in Each Column"
   ]
  },
  {
   "cell_type": "code",
   "execution_count": 8,
   "metadata": {},
   "outputs": [
    {
     "data": {
      "text/plain": [
       "PoolQC          1450\n",
       "MiscFeature     1401\n",
       "Alley           1364\n",
       "Fence           1175\n",
       "FireplaceQu      690\n",
       "LotFrontage      258\n",
       "GarageCond        81\n",
       "GarageType        81\n",
       "GarageYrBlt       81\n",
       "GarageFinish      81\n",
       "dtype: int64"
      ]
     },
     "execution_count": 8,
     "metadata": {},
     "output_type": "execute_result"
    }
   ],
   "source": [
    "df.isna().sum().sort_values(ascending=False).head(10)"
   ]
  },
  {
   "cell_type": "markdown",
   "metadata": {},
   "source": [
    "#### Assess Missing Data in Each Column"
   ]
  },
  {
   "cell_type": "code",
   "execution_count": 9,
   "metadata": {},
   "outputs": [
    {
     "data": {
      "text/plain": [
       "PoolQC          0.996564\n",
       "MiscFeature     0.962887\n",
       "Alley           0.937457\n",
       "Fence           0.807560\n",
       "FireplaceQu     0.474227\n",
       "LotFrontage     0.177320\n",
       "GarageYrBlt     0.055670\n",
       "GarageType      0.055670\n",
       "GarageFinish    0.055670\n",
       "GarageQual      0.055670\n",
       "GarageCond      0.055670\n",
       "BsmtFinType2    0.026117\n",
       "BsmtExposure    0.026117\n",
       "BsmtFinType1    0.025430\n",
       "BsmtCond        0.025430\n",
       "BsmtQual        0.025430\n",
       "MasVnrArea      0.005498\n",
       "MasVnrType      0.005498\n",
       "Electrical      0.000687\n",
       "dtype: float64"
      ]
     },
     "execution_count": 9,
     "metadata": {},
     "output_type": "execute_result"
    }
   ],
   "source": [
    "nan_count = df.isna().sum()\n",
    "nan_count = nan_count[nan_count > 0]\n",
    "nan_cols = df[nan_count.index].columns\n",
    "(nan_count / df.shape[0]).sort_values(ascending=False)"
   ]
  },
  {
   "cell_type": "code",
   "execution_count": 10,
   "metadata": {},
   "outputs": [
    {
     "data": {
      "image/png": "[encoded data removed]",
      "text/plain": [
       "<Figure size 648x576 with 1 Axes>"
      ]
     },
     "metadata": {},
     "output_type": "display_data"
    },
    {
     "data": {
      "text/plain": [
       "<Figure size 432x288 with 0 Axes>"
      ]
     },
     "metadata": {},
     "output_type": "display_data"
    }
   ],
   "source": [
    "# Investigate patterns in the amount of missing data in each column.\n",
    "\n",
    "# plt.rcParams.update({'figure.dpi':100})\n",
    "\n",
    "plt.figure(figsize=(9, 8))\n",
    "ax = sns.histplot(nan_count, kde=False)\n",
    "ax.set_title('Histogram of Missing Data by Column')\n",
    "ax.set(xlabel='Total Missing or Unknown', ylabel='Total Occurrences')\n",
    "plt.show()\n",
    "\n",
    "# Uncomment this line to save the figure.\n",
    "# plt.savefig('../reports/figures/MissingDatabyCol_Histogram.svg')"
   ]
  },
  {
   "cell_type": "code",
   "execution_count": 11,
   "metadata": {},
   "outputs": [
    {
     "data": {
      "image/png": "[encoded data removed]",
      "text/plain": [
       "<Figure size 648x576 with 1 Axes>"
      ]
     },
     "metadata": {},
     "output_type": "display_data"
    },
    {
     "data": {
      "text/plain": [
       "<Figure size 432x288 with 0 Axes>"
      ]
     },
     "metadata": {},
     "output_type": "display_data"
    }
   ],
   "source": [
    "nan_rows = df.isna().sum(axis=1)\n",
    "plt.figure(figsize=(9, 8))\n",
    "ax = sns.histplot(nan_rows, kde=False)\n",
    "ax.set_title('Histogram of Missing Data by Row')\n",
    "ax.set(xlabel='Total Missing or Unknown', ylabel='Total Occurrences')\n",
    "plt.show()\n",
    "\n",
    "# Uncomment this line to save the figure.\n",
    "# plt.savefig('../reports/figures/MissingDatabyRow_Histogram.svg')"
   ]
  },
  {
   "cell_type": "markdown",
   "metadata": {},
   "source": [
    "#### Assessment Summary\n",
    "\n",
    "There is a fair amount of missing data in this dataset. Four features in particular (PoolQC, MiscFeature, Alley, Fence) contain >50% missing or unknown values. For PoolQC, we may be able to imply whether or not the home has a pool performing some feature engineering on the PoolArea feature. In addition, several features such as 'GarageArea' indicate the total square footage of a garage (if any) but our dataset does not seem to indicate whether a not a particular home has a garage or not. We'll create features for these. Let's investigate these in turn."
   ]
  },
  {
   "cell_type": "code",
   "execution_count": 12,
   "metadata": {},
   "outputs": [
    {
     "data": {
      "text/plain": [
       "0      1450\n",
       "738       1\n",
       "648       1\n",
       "576       1\n",
       "519       1\n",
       "512       1\n",
       "Name: PoolArea, dtype: int64"
      ]
     },
     "execution_count": 12,
     "metadata": {},
     "output_type": "execute_result"
    }
   ],
   "source": [
    "df['PoolArea'].value_counts()"
   ]
  },
  {
   "cell_type": "markdown",
   "metadata": {},
   "source": [
    "Most homes don't have pools. Let's use the value of 'PoolArea' to assign 'NA' to 'PoolQC' if the area == 0"
   ]
  },
  {
   "cell_type": "code",
   "execution_count": 13,
   "metadata": {},
   "outputs": [
    {
     "data": {
      "text/plain": [
       "Gd    2\n",
       "Fa    2\n",
       "Ex    1\n",
       "Name: PoolQC, dtype: int64"
      ]
     },
     "execution_count": 13,
     "metadata": {},
     "output_type": "execute_result"
    }
   ],
   "source": [
    "df['PoolQC'].value_counts()"
   ]
  },
  {
   "cell_type": "code",
   "execution_count": 14,
   "metadata": {},
   "outputs": [
    {
     "data": {
      "text/plain": [
       "NA    1450\n",
       "Gd       2\n",
       "Fa       2\n",
       "Ex       1\n",
       "Name: PoolQC, dtype: int64"
      ]
     },
     "execution_count": 14,
     "metadata": {},
     "output_type": "execute_result"
    }
   ],
   "source": [
    "df.loc[df['PoolArea'] == 0, 'PoolQC'] = 'NA' # If no 'PoolArea', (0), then there is no pool \n",
    "df['PoolQC'].value_counts()"
   ]
  },
  {
   "cell_type": "markdown",
   "metadata": {},
   "source": [
    "Similarly, let's apply the same logic to other features where necessary:"
   ]
  },
  {
   "cell_type": "code",
   "execution_count": 15,
   "metadata": {},
   "outputs": [
    {
     "data": {
      "text/plain": [
       "MnPrv    156\n",
       "GdPrv     59\n",
       "GdWo      54\n",
       "MnWw      11\n",
       "Name: Fence, dtype: int64"
      ]
     },
     "execution_count": 15,
     "metadata": {},
     "output_type": "execute_result"
    }
   ],
   "source": [
    "df['Fence'].value_counts()"
   ]
  },
  {
   "cell_type": "code",
   "execution_count": 16,
   "metadata": {},
   "outputs": [
    {
     "data": {
      "text/plain": [
       "Grvl    50\n",
       "Pave    41\n",
       "Name: Alley, dtype: int64"
      ]
     },
     "execution_count": 16,
     "metadata": {},
     "output_type": "execute_result"
    }
   ],
   "source": [
    "df['Alley'].value_counts()"
   ]
  },
  {
   "cell_type": "code",
   "execution_count": 17,
   "metadata": {},
   "outputs": [
    {
     "data": {
      "text/plain": [
       "TA    1306\n",
       "Gd      65\n",
       "Fa      45\n",
       "Po       2\n",
       "Name: BsmtCond, dtype: int64"
      ]
     },
     "execution_count": 17,
     "metadata": {},
     "output_type": "execute_result"
    }
   ],
   "source": [
    "df['BsmtCond'].value_counts()"
   ]
  },
  {
   "cell_type": "code",
   "execution_count": 18,
   "metadata": {},
   "outputs": [
    {
     "data": {
      "text/plain": [
       "Gd    377\n",
       "TA    312\n",
       "Fa     33\n",
       "Ex     23\n",
       "Po     20\n",
       "Name: FireplaceQu, dtype: int64"
      ]
     },
     "execution_count": 18,
     "metadata": {},
     "output_type": "execute_result"
    }
   ],
   "source": [
    "df['FireplaceQu'].value_counts()"
   ]
  },
  {
   "cell_type": "code",
   "execution_count": 19,
   "metadata": {},
   "outputs": [
    {
     "data": {
      "text/plain": [
       "Id\n",
       "1       0\n",
       "2       1\n",
       "3       1\n",
       "4       1\n",
       "5       1\n",
       "       ..\n",
       "1456    1\n",
       "1457    1\n",
       "1458    1\n",
       "1459    0\n",
       "1460    0\n",
       "Name: HasFireplace, Length: 1455, dtype: int64"
      ]
     },
     "execution_count": 19,
     "metadata": {},
     "output_type": "execute_result"
    }
   ],
   "source": [
    "df.loc[df['Fence'].isna(), 'Fence'] = 'NA'\n",
    "df.loc[df['Alley'].isna(), 'Alley'] = 'NA'\n",
    "df.loc[df['BsmtQual'].isna(), 'BsmtQual'] = 'NA'\n",
    "df.loc[df['BsmtCond'].isna(), 'Bsmtcond'] = 'NA'\n",
    "df.loc[df['BsmtExposure'].isna(), 'BsmtExposure'] = 'NA'\n",
    "df.loc[df['BsmtFinType1'].isna(), 'BsmtFinType1'] = 'NA'\n",
    "df.loc[df['BsmtFinType2'].isna(), 'BsmtFinType2'] = 'NA'\n",
    "df.loc[df['FireplaceQu'].isna(), 'FireplaceQu'] = 'NA'\n",
    "\n",
    "df['HasFence'] = df['Fence']\n",
    "df['HasFence'].apply(lambda x: 1 if x != 'NA' else 0)\n",
    "\n",
    "df['HasAlley'] = df['Alley']\n",
    "df['HasAlley'].apply(lambda x: 1 if x != 'NA' else 0)\n",
    "\n",
    "df['HasPool'] = df['PoolArea']\n",
    "df['HasPool'].apply(lambda x: 1 if x > 0 else 0)\n",
    "\n",
    "df['HasGarage'] = df['GarageArea']\n",
    "df['HasGarage'].apply(lambda x: 1 if x > 0 else 0)\n",
    "\n",
    "df['HasBasement'] = df['TotalBsmtSF']\n",
    "df['HasBasement'].apply(lambda x: 1 if x > 0 else 0)\n",
    "\n",
    "df['HasFireplace'] = df['FireplaceQu']\n",
    "df['HasFireplace'].apply(lambda x: 1 if x != 'NA' else 0)"
   ]
  },
  {
   "cell_type": "code",
   "execution_count": 20,
   "metadata": {},
   "outputs": [],
   "source": [
    "categorical_cols = df.select_dtypes(include=object).columns\n",
    "numerical_cols = df.select_dtypes(include=np.number).columns"
   ]
  },
  {
   "cell_type": "code",
   "execution_count": 21,
   "metadata": {},
   "outputs": [
    {
     "name": "stdout",
     "output_type": "stream",
     "text": [
      "360 total features after one-hot encoding.\n"
     ]
    }
   ],
   "source": [
    "# Perform One-Hot Encoding on our Categorical Data\n",
    "\n",
    "features_enc = df.copy()\n",
    "onehot_df = features_enc.drop(columns=categorical_cols)\n",
    "features_onehot_enc = pd.get_dummies(features_enc[categorical_cols], dummy_na=True)\n",
    "onehot_df[features_onehot_enc.columns] = features_onehot_enc\n",
    "\n",
    "# Uncomment this line to export DataFrame\n",
    "# onehot_df.to_csv('../data/interim/onehot_df.csv')\n",
    "\n",
    "# Print the number of features after one-hot encoding\n",
    "encoded = list(onehot_df.columns)\n",
    "print(f'{len(encoded)} total features after one-hot encoding.')\n",
    "\n",
    "# Uncomment the following line to see the encoded feature names\n",
    "# print(encoded)"
   ]
  },
  {
   "cell_type": "code",
   "execution_count": 22,
   "metadata": {},
   "outputs": [
    {
     "data": {
      "text/plain": [
       "MasVnrArea       8\n",
       "GarageYrBlt     81\n",
       "LotFrontage    258\n",
       "dtype: int64"
      ]
     },
     "execution_count": 22,
     "metadata": {},
     "output_type": "execute_result"
    }
   ],
   "source": [
    "onehot_df.isna().sum().sort_values().tail(3)"
   ]
  },
  {
   "cell_type": "code",
   "execution_count": 23,
   "metadata": {},
   "outputs": [],
   "source": [
    "nan_labels = ['MasVnrArea_nan', 'GarageYrBlt_nan', 'LotFrontage_nan']\n",
    "encoded.extend(nan_labels)"
   ]
  },
  {
   "cell_type": "code",
   "execution_count": 24,
   "metadata": {},
   "outputs": [],
   "source": [
    "imp = IterativeImputer(missing_values=np.nan, random_state=5, max_iter=20, add_indicator=True)\n",
    "imputed_arr = imp.fit_transform(onehot_df)\n",
    "features_imputed = pd.DataFrame(imputed_arr, columns=encoded)\n",
    "features_imputed.index = onehot_df.index\n",
    "\n",
    "# Uncomment this line to export DataFrame\n",
    "# features_imputed.to_csv('../data/interim/features_imputed.csv')"
   ]
  },
  {
   "cell_type": "markdown",
   "metadata": {},
   "source": [
    "### Feature Transformation\n",
    "#### Transforming Skewed Continuous Features\n",
    "\n",
    "A dataset may sometimes contain at least one feature whose values tend to lie near a single number, but will also have a non-trivial number of vastly larger or smaller values than that single number. Algorithms can be sensitive to such distributions of values and can underperform if the range is not properly normalized. We'll need to check the following continuous data features for 'skew'.\n",
    "\n",
    "- LotFrontage\n",
    "- LotArea\n",
    "- MasVnrArea\n",
    "- BsmtFinSF1\n",
    "- BsmtFinSF2\n",
    "- TotalBsmtSF\n",
    "- 1stFlrSF\n",
    "- 2ndFlrSF\n",
    "- LowQualFinSF\n",
    "- GrLivArea\n",
    "- GarageArea\n",
    "- WoodDeckSF\n",
    "- OpenPorchSF\n",
    "- EnclosedPorch\n",
    "- 3SsnPorch\n",
    "- ScreenPorch\n",
    "- PoolArea\n",
    "- MiscVal"
   ]
  },
  {
   "cell_type": "code",
   "execution_count": 25,
   "metadata": {},
   "outputs": [
    {
     "data": {
      "text/plain": [
       "1stFlrSF          0.782029\n",
       "2ndFlrSF          0.776812\n",
       "3SsnPorch        10.286243\n",
       "BsmtFinSF1        0.746698\n",
       "BsmtFinSF2        4.246917\n",
       "EnclosedPorch     3.095410\n",
       "GarageArea        0.133657\n",
       "GrLivArea         0.823556\n",
       "LotArea          12.584380\n",
       "LotFrontage       1.374661\n",
       "LowQualFinSF      8.995367\n",
       "MasVnrArea        2.644332\n",
       "MiscVal          24.435000\n",
       "OpenPorchSF       2.340362\n",
       "PoolArea         17.516549\n",
       "ScreenPorch       4.113996\n",
       "TotalBsmtSF       0.410688\n",
       "WoodDeckSF        1.554775\n",
       "dtype: float64"
      ]
     },
     "execution_count": 25,
     "metadata": {},
     "output_type": "execute_result"
    }
   ],
   "source": [
    "continuous_cols = ['LotFrontage', 'LotArea', 'MasVnrArea', 'BsmtFinSF1', 'BsmtFinSF2', 'TotalBsmtSF', '1stFlrSF', \n",
    "        '2ndFlrSF', 'LowQualFinSF', 'GrLivArea', 'GarageArea', 'WoodDeckSF', 'OpenPorchSF',\n",
    "        'EnclosedPorch', '3SsnPorch', 'ScreenPorch', 'PoolArea', 'MiscVal']\n",
    "\n",
    "skew = features_imputed[continuous_cols].skew().sort_index()\n",
    "skew"
   ]
  },
  {
   "cell_type": "code",
   "execution_count": 26,
   "metadata": {},
   "outputs": [
    {
     "data": {
      "text/plain": [
       "1stFlrSF         False\n",
       "2ndFlrSF         False\n",
       "3SsnPorch         True\n",
       "BsmtFinSF1       False\n",
       "BsmtFinSF2       False\n",
       "EnclosedPorch    False\n",
       "GarageArea       False\n",
       "GrLivArea        False\n",
       "LotArea          False\n",
       "LotFrontage       True\n",
       "LowQualFinSF      True\n",
       "MasVnrArea       False\n",
       "MiscVal          False\n",
       "OpenPorchSF      False\n",
       "PoolArea          True\n",
       "ScreenPorch       True\n",
       "TotalBsmtSF      False\n",
       "WoodDeckSF       False\n",
       "dtype: bool"
      ]
     },
     "execution_count": 26,
     "metadata": {},
     "output_type": "execute_result"
    }
   ],
   "source": [
    "# Show columns with skew greater than 2 * Standard Error\n",
    "skew > 2 * features_imputed[continuous_cols].sem().sort_index()"
   ]
  },
  {
   "cell_type": "code",
   "execution_count": 27,
   "metadata": {},
   "outputs": [
    {
     "name": "stderr",
     "output_type": "stream",
     "text": [
      "/Users/seanward/anaconda3/envs/HousingEnv/lib/python3.8/site-packages/seaborn/distributions.py:2551: FutureWarning: `distplot` is a deprecated function and will be removed in a future version. Please adapt your code to use either `displot` (a figure-level function with similar flexibility) or `histplot` (an axes-level function for histograms).\n",
      "  warnings.warn(msg, FutureWarning)\n"
     ]
    },
    {
     "data": {
      "image/png": "[encoded data removed]",
      "text/plain": [
       "<Figure size 1152x720 with 5 Axes>"
      ]
     },
     "metadata": {},
     "output_type": "display_data"
    }
   ],
   "source": [
    "skewed = ['ScreenPorch', 'PoolArea', 'LotFrontage', '3SsnPorch', 'LowQualFinSF']\n",
    "\n",
    "fig = plt.figure(figsize = (16,10));\n",
    "\n",
    "# Skewed feature plotting\n",
    "for i, feature in enumerate(skewed):\n",
    "    ax = fig.add_subplot(2, 3, i+1)\n",
    "    sns.distplot(features_imputed[feature], kde=False, bins=20, color='#00A0A0')\n",
    "    ax.set_title(\"'%s' Feature Distribution\"%(feature), fontsize = 14)\n",
    "    ax.set_xlabel(\"Value\")\n",
    "    ax.set_ylabel(\"Number of Records\")\n",
    "    ax.set_ylim((0, 1600))\n",
    "    ax.set_yticks([0, 400, 800, 1200, 1600])\n",
    "    ax.set_yticklabels([0, 400, 800, 1200, \">1600\"])\n",
    "\n",
    "# Plot aesthetics\n",
    "fig.suptitle(\"Skewed Distributions of Continuous Data Features\", \\\n",
    "        fontsize = 16, y = 1.03)\n",
    "\n",
    "fig.tight_layout()\n",
    "\n",
    "# Uncomment this line to save the figure.\n",
    "# plt.savefig('../reports/figures/Skewed_Distributions.svg')"
   ]
  },
  {
   "cell_type": "code",
   "execution_count": 28,
   "metadata": {},
   "outputs": [
    {
     "data": {
      "image/png": "[encoded data removed]",
      "text/plain": [
       "<Figure size 1080x720 with 5 Axes>"
      ]
     },
     "metadata": {},
     "output_type": "display_data"
    }
   ],
   "source": [
    "features_log_xformed = pd.DataFrame(data = features_imputed)\n",
    "features_log_xformed[skewed] = features_imputed[skewed].apply(lambda x: np.log(x + 1))\n",
    "\n",
    "fig = plt.figure(figsize = (15,10));\n",
    "\n",
    "# Skewed feature plotting\n",
    "for i, feature in enumerate(skewed):\n",
    "    ax = fig.add_subplot(2, 3, i+1)\n",
    "    sns.distplot(features_log_xformed[feature], kde=False, bins=20, color='#00A0A0')\n",
    "    ax.set_title(\"'%s' Feature Distribution\"%(feature), fontsize = 14)\n",
    "    ax.set_xlabel(\"Value\")\n",
    "    ax.set_ylabel(\"Number of Records\")\n",
    "    ax.set_ylim((0, 1600))\n",
    "    ax.set_yticks([0, 400, 800, 1200, 1600])\n",
    "    ax.set_yticklabels([0, 400, 800, 1200, \">1600\"])\n",
    "\n",
    "# Plot aesthetics\n",
    "fig.suptitle(\"Log-Transformed Distributions of Continuous Data Features\", \\\n",
    "        fontsize = 16, y = 1.03)\n",
    "\n",
    "fig.tight_layout()\n",
    "\n",
    "# Uncomment this line to save the figure.\n",
    "# plt.savefig('../reports/figures/Log_Xformed_Distributions.svg')"
   ]
  },
  {
   "cell_type": "markdown",
   "metadata": {},
   "source": [
    "We also need to look at our target variable 'SalePrice' and perform a log-transformation on it to remove skew."
   ]
  },
  {
   "cell_type": "markdown",
   "metadata": {},
   "source": [
    "### Feature Scaling\n",
    "#### Normalizing Numerical Features\n",
    "\n",
    "In addition to performing transformations on features that are highly skewed, it is often good practice to perform some type of scaling on numerical features. Applying a scaling to the data does not change the shape of each feature's distribution. Normalization does, however,  ensure that each feature is treated equally when applying supervised learners."
   ]
  },
  {
   "cell_type": "code",
   "execution_count": 29,
   "metadata": {},
   "outputs": [
    {
     "data": {
      "text/html": [
       "<div>\n",
       "<style scoped>\n",
       "    .dataframe tbody tr th:only-of-type {\n",
       "        vertical-align: middle;\n",
       "    }\n",
       "\n",
       "    .dataframe tbody tr th {\n",
       "        vertical-align: top;\n",
       "    }\n",
       "\n",
       "    .dataframe thead th {\n",
       "        text-align: right;\n",
       "    }\n",
       "</style>\n",
       "<table border=\"1\" class=\"dataframe\">\n",
       "  <thead>\n",
       "    <tr style=\"text-align: right;\">\n",
       "      <th></th>\n",
       "      <th>MSSubClass</th>\n",
       "      <th>LotFrontage</th>\n",
       "      <th>LotArea</th>\n",
       "      <th>OverallQual</th>\n",
       "      <th>OverallCond</th>\n",
       "      <th>YearBuilt</th>\n",
       "      <th>YearRemodAdd</th>\n",
       "      <th>MasVnrArea</th>\n",
       "      <th>BsmtFinSF1</th>\n",
       "      <th>BsmtFinSF2</th>\n",
       "      <th>...</th>\n",
       "      <th>HasFireplace_Ex</th>\n",
       "      <th>HasFireplace_Fa</th>\n",
       "      <th>HasFireplace_Gd</th>\n",
       "      <th>HasFireplace_NA</th>\n",
       "      <th>HasFireplace_Po</th>\n",
       "      <th>HasFireplace_TA</th>\n",
       "      <th>HasFireplace_nan</th>\n",
       "      <th>MasVnrArea_nan</th>\n",
       "      <th>GarageYrBlt_nan</th>\n",
       "      <th>LotFrontage_nan</th>\n",
       "    </tr>\n",
       "    <tr>\n",
       "      <th>Id</th>\n",
       "      <th></th>\n",
       "      <th></th>\n",
       "      <th></th>\n",
       "      <th></th>\n",
       "      <th></th>\n",
       "      <th></th>\n",
       "      <th></th>\n",
       "      <th></th>\n",
       "      <th></th>\n",
       "      <th></th>\n",
       "      <th></th>\n",
       "      <th></th>\n",
       "      <th></th>\n",
       "      <th></th>\n",
       "      <th></th>\n",
       "      <th></th>\n",
       "      <th></th>\n",
       "      <th></th>\n",
       "      <th></th>\n",
       "      <th></th>\n",
       "      <th></th>\n",
       "    </tr>\n",
       "  </thead>\n",
       "  <tbody>\n",
       "    <tr>\n",
       "      <th>1</th>\n",
       "      <td>0.072871</td>\n",
       "      <td>-0.086280</td>\n",
       "      <td>-0.202548</td>\n",
       "      <td>0.666823</td>\n",
       "      <td>-0.517687</td>\n",
       "      <td>1.054053</td>\n",
       "      <td>0.880646</td>\n",
       "      <td>0.528207</td>\n",
       "      <td>0.627235</td>\n",
       "      <td>-0.28919</td>\n",
       "      <td>...</td>\n",
       "      <td>-0.126734</td>\n",
       "      <td>-0.152338</td>\n",
       "      <td>-0.591373</td>\n",
       "      <td>1.052946</td>\n",
       "      <td>-0.118056</td>\n",
       "      <td>-0.522461</td>\n",
       "      <td>0.0</td>\n",
       "      <td>-0.464262</td>\n",
       "      <td>-0.074355</td>\n",
       "      <td>-0.2428</td>\n",
       "    </tr>\n",
       "    <tr>\n",
       "      <th>2</th>\n",
       "      <td>-0.871698</td>\n",
       "      <td>0.530546</td>\n",
       "      <td>-0.085922</td>\n",
       "      <td>-0.063770</td>\n",
       "      <td>2.175642</td>\n",
       "      <td>0.159914</td>\n",
       "      <td>-0.426795</td>\n",
       "      <td>-0.579375</td>\n",
       "      <td>1.260159</td>\n",
       "      <td>-0.28919</td>\n",
       "      <td>...</td>\n",
       "      <td>-0.126734</td>\n",
       "      <td>-0.152338</td>\n",
       "      <td>-0.591373</td>\n",
       "      <td>-0.949716</td>\n",
       "      <td>-0.118056</td>\n",
       "      <td>1.914017</td>\n",
       "      <td>0.0</td>\n",
       "      <td>-0.464262</td>\n",
       "      <td>-0.074355</td>\n",
       "      <td>-0.2428</td>\n",
       "    </tr>\n",
       "    <tr>\n",
       "      <th>3</th>\n",
       "      <td>0.072871</td>\n",
       "      <td>0.047605</td>\n",
       "      <td>0.081411</td>\n",
       "      <td>0.666823</td>\n",
       "      <td>-0.517687</td>\n",
       "      <td>0.987820</td>\n",
       "      <td>0.832223</td>\n",
       "      <td>0.336075</td>\n",
       "      <td>0.115310</td>\n",
       "      <td>-0.28919</td>\n",
       "      <td>...</td>\n",
       "      <td>-0.126734</td>\n",
       "      <td>-0.152338</td>\n",
       "      <td>-0.591373</td>\n",
       "      <td>-0.949716</td>\n",
       "      <td>-0.118056</td>\n",
       "      <td>1.914017</td>\n",
       "      <td>0.0</td>\n",
       "      <td>-0.464262</td>\n",
       "      <td>-0.074355</td>\n",
       "      <td>-0.2428</td>\n",
       "    </tr>\n",
       "    <tr>\n",
       "      <th>4</th>\n",
       "      <td>0.309014</td>\n",
       "      <td>-0.323562</td>\n",
       "      <td>-0.090993</td>\n",
       "      <td>0.666823</td>\n",
       "      <td>-0.517687</td>\n",
       "      <td>-1.860177</td>\n",
       "      <td>-0.717337</td>\n",
       "      <td>-0.579375</td>\n",
       "      <td>-0.512961</td>\n",
       "      <td>-0.28919</td>\n",
       "      <td>...</td>\n",
       "      <td>-0.126734</td>\n",
       "      <td>-0.152338</td>\n",
       "      <td>1.690981</td>\n",
       "      <td>-0.949716</td>\n",
       "      <td>-0.118056</td>\n",
       "      <td>-0.522461</td>\n",
       "      <td>0.0</td>\n",
       "      <td>-0.464262</td>\n",
       "      <td>-0.074355</td>\n",
       "      <td>-0.2428</td>\n",
       "    </tr>\n",
       "    <tr>\n",
       "      <th>5</th>\n",
       "      <td>0.072871</td>\n",
       "      <td>0.675727</td>\n",
       "      <td>0.386666</td>\n",
       "      <td>1.397416</td>\n",
       "      <td>-0.517687</td>\n",
       "      <td>0.954704</td>\n",
       "      <td>0.735375</td>\n",
       "      <td>1.398450</td>\n",
       "      <td>0.508561</td>\n",
       "      <td>-0.28919</td>\n",
       "      <td>...</td>\n",
       "      <td>-0.126734</td>\n",
       "      <td>-0.152338</td>\n",
       "      <td>-0.591373</td>\n",
       "      <td>-0.949716</td>\n",
       "      <td>-0.118056</td>\n",
       "      <td>1.914017</td>\n",
       "      <td>0.0</td>\n",
       "      <td>-0.464262</td>\n",
       "      <td>-0.074355</td>\n",
       "      <td>-0.2428</td>\n",
       "    </tr>\n",
       "  </tbody>\n",
       "</table>\n",
       "<p>5 rows × 363 columns</p>\n",
       "</div>"
      ],
      "text/plain": [
       "    MSSubClass  LotFrontage   LotArea  OverallQual  OverallCond  YearBuilt  \\\n",
       "Id                                                                           \n",
       "1     0.072871    -0.086280 -0.202548     0.666823    -0.517687   1.054053   \n",
       "2    -0.871698     0.530546 -0.085922    -0.063770     2.175642   0.159914   \n",
       "3     0.072871     0.047605  0.081411     0.666823    -0.517687   0.987820   \n",
       "4     0.309014    -0.323562 -0.090993     0.666823    -0.517687  -1.860177   \n",
       "5     0.072871     0.675727  0.386666     1.397416    -0.517687   0.954704   \n",
       "\n",
       "    YearRemodAdd  MasVnrArea  BsmtFinSF1  BsmtFinSF2  ...  HasFireplace_Ex  \\\n",
       "Id                                                    ...                    \n",
       "1       0.880646    0.528207    0.627235    -0.28919  ...        -0.126734   \n",
       "2      -0.426795   -0.579375    1.260159    -0.28919  ...        -0.126734   \n",
       "3       0.832223    0.336075    0.115310    -0.28919  ...        -0.126734   \n",
       "4      -0.717337   -0.579375   -0.512961    -0.28919  ...        -0.126734   \n",
       "5       0.735375    1.398450    0.508561    -0.28919  ...        -0.126734   \n",
       "\n",
       "    HasFireplace_Fa  HasFireplace_Gd  HasFireplace_NA  HasFireplace_Po  \\\n",
       "Id                                                                       \n",
       "1         -0.152338        -0.591373         1.052946        -0.118056   \n",
       "2         -0.152338        -0.591373        -0.949716        -0.118056   \n",
       "3         -0.152338        -0.591373        -0.949716        -0.118056   \n",
       "4         -0.152338         1.690981        -0.949716        -0.118056   \n",
       "5         -0.152338        -0.591373        -0.949716        -0.118056   \n",
       "\n",
       "    HasFireplace_TA  HasFireplace_nan  MasVnrArea_nan  GarageYrBlt_nan  \\\n",
       "Id                                                                       \n",
       "1         -0.522461               0.0       -0.464262        -0.074355   \n",
       "2          1.914017               0.0       -0.464262        -0.074355   \n",
       "3          1.914017               0.0       -0.464262        -0.074355   \n",
       "4         -0.522461               0.0       -0.464262        -0.074355   \n",
       "5          1.914017               0.0       -0.464262        -0.074355   \n",
       "\n",
       "    LotFrontage_nan  \n",
       "Id                   \n",
       "1           -0.2428  \n",
       "2           -0.2428  \n",
       "3           -0.2428  \n",
       "4           -0.2428  \n",
       "5           -0.2428  \n",
       "\n",
       "[5 rows x 363 columns]"
      ]
     },
     "execution_count": 29,
     "metadata": {},
     "output_type": "execute_result"
    }
   ],
   "source": [
    "# Initialize scaler, then apply it to the features\n",
    "scaler = StandardScaler()\n",
    "numerical = features_log_xformed.select_dtypes(include=np.number).columns\n",
    "\n",
    "features_scaled = pd.DataFrame(data = features_log_xformed)\n",
    "features_scaled[numerical] = scaler.fit_transform(features_log_xformed[numerical])\n",
    "\n",
    "features_final = features_scaled.copy()\n",
    "\n",
    "# Uncomment this line to export DataFrame\n",
    "# features_scaled.to_csv('../data/interim/features_scaled.csv')\n",
    "\n",
    "# Uncomment this line to export DataFrame\n",
    "# features_final.to_csv('../data/processed/features_final.csv')\n",
    "\n",
    "# Show an example of a record with scaling applied\n",
    "features_scaled.head()"
   ]
  },
  {
   "cell_type": "code",
   "execution_count": 30,
   "metadata": {},
   "outputs": [
    {
     "data": {
      "text/html": [
       "<div>\n",
       "<style scoped>\n",
       "    .dataframe tbody tr th:only-of-type {\n",
       "        vertical-align: middle;\n",
       "    }\n",
       "\n",
       "    .dataframe tbody tr th {\n",
       "        vertical-align: top;\n",
       "    }\n",
       "\n",
       "    .dataframe thead th {\n",
       "        text-align: right;\n",
       "    }\n",
       "</style>\n",
       "<table border=\"1\" class=\"dataframe\">\n",
       "  <thead>\n",
       "    <tr style=\"text-align: right;\">\n",
       "      <th></th>\n",
       "      <th>MSSubClass</th>\n",
       "      <th>LotFrontage</th>\n",
       "      <th>LotArea</th>\n",
       "      <th>OverallQual</th>\n",
       "      <th>OverallCond</th>\n",
       "      <th>YearBuilt</th>\n",
       "      <th>YearRemodAdd</th>\n",
       "      <th>MasVnrArea</th>\n",
       "      <th>BsmtFinSF1</th>\n",
       "      <th>BsmtFinSF2</th>\n",
       "      <th>...</th>\n",
       "      <th>HasFireplace_Ex</th>\n",
       "      <th>HasFireplace_Fa</th>\n",
       "      <th>HasFireplace_Gd</th>\n",
       "      <th>HasFireplace_NA</th>\n",
       "      <th>HasFireplace_Po</th>\n",
       "      <th>HasFireplace_TA</th>\n",
       "      <th>HasFireplace_nan</th>\n",
       "      <th>MasVnrArea_nan</th>\n",
       "      <th>GarageYrBlt_nan</th>\n",
       "      <th>LotFrontage_nan</th>\n",
       "    </tr>\n",
       "    <tr>\n",
       "      <th>Id</th>\n",
       "      <th></th>\n",
       "      <th></th>\n",
       "      <th></th>\n",
       "      <th></th>\n",
       "      <th></th>\n",
       "      <th></th>\n",
       "      <th></th>\n",
       "      <th></th>\n",
       "      <th></th>\n",
       "      <th></th>\n",
       "      <th></th>\n",
       "      <th></th>\n",
       "      <th></th>\n",
       "      <th></th>\n",
       "      <th></th>\n",
       "      <th></th>\n",
       "      <th></th>\n",
       "      <th></th>\n",
       "      <th></th>\n",
       "      <th></th>\n",
       "      <th></th>\n",
       "    </tr>\n",
       "  </thead>\n",
       "  <tbody>\n",
       "    <tr>\n",
       "      <th>1</th>\n",
       "      <td>0.072871</td>\n",
       "      <td>-0.086280</td>\n",
       "      <td>-0.202548</td>\n",
       "      <td>0.666823</td>\n",
       "      <td>-0.517687</td>\n",
       "      <td>1.054053</td>\n",
       "      <td>0.880646</td>\n",
       "      <td>0.528207</td>\n",
       "      <td>0.627235</td>\n",
       "      <td>-0.28919</td>\n",
       "      <td>...</td>\n",
       "      <td>-0.126734</td>\n",
       "      <td>-0.152338</td>\n",
       "      <td>-0.591373</td>\n",
       "      <td>1.052946</td>\n",
       "      <td>-0.118056</td>\n",
       "      <td>-0.522461</td>\n",
       "      <td>0.0</td>\n",
       "      <td>-0.464262</td>\n",
       "      <td>-0.074355</td>\n",
       "      <td>-0.2428</td>\n",
       "    </tr>\n",
       "    <tr>\n",
       "      <th>2</th>\n",
       "      <td>-0.871698</td>\n",
       "      <td>0.530546</td>\n",
       "      <td>-0.085922</td>\n",
       "      <td>-0.063770</td>\n",
       "      <td>2.175642</td>\n",
       "      <td>0.159914</td>\n",
       "      <td>-0.426795</td>\n",
       "      <td>-0.579375</td>\n",
       "      <td>1.260159</td>\n",
       "      <td>-0.28919</td>\n",
       "      <td>...</td>\n",
       "      <td>-0.126734</td>\n",
       "      <td>-0.152338</td>\n",
       "      <td>-0.591373</td>\n",
       "      <td>-0.949716</td>\n",
       "      <td>-0.118056</td>\n",
       "      <td>1.914017</td>\n",
       "      <td>0.0</td>\n",
       "      <td>-0.464262</td>\n",
       "      <td>-0.074355</td>\n",
       "      <td>-0.2428</td>\n",
       "    </tr>\n",
       "    <tr>\n",
       "      <th>3</th>\n",
       "      <td>0.072871</td>\n",
       "      <td>0.047605</td>\n",
       "      <td>0.081411</td>\n",
       "      <td>0.666823</td>\n",
       "      <td>-0.517687</td>\n",
       "      <td>0.987820</td>\n",
       "      <td>0.832223</td>\n",
       "      <td>0.336075</td>\n",
       "      <td>0.115310</td>\n",
       "      <td>-0.28919</td>\n",
       "      <td>...</td>\n",
       "      <td>-0.126734</td>\n",
       "      <td>-0.152338</td>\n",
       "      <td>-0.591373</td>\n",
       "      <td>-0.949716</td>\n",
       "      <td>-0.118056</td>\n",
       "      <td>1.914017</td>\n",
       "      <td>0.0</td>\n",
       "      <td>-0.464262</td>\n",
       "      <td>-0.074355</td>\n",
       "      <td>-0.2428</td>\n",
       "    </tr>\n",
       "    <tr>\n",
       "      <th>4</th>\n",
       "      <td>0.309014</td>\n",
       "      <td>-0.323562</td>\n",
       "      <td>-0.090993</td>\n",
       "      <td>0.666823</td>\n",
       "      <td>-0.517687</td>\n",
       "      <td>-1.860177</td>\n",
       "      <td>-0.717337</td>\n",
       "      <td>-0.579375</td>\n",
       "      <td>-0.512961</td>\n",
       "      <td>-0.28919</td>\n",
       "      <td>...</td>\n",
       "      <td>-0.126734</td>\n",
       "      <td>-0.152338</td>\n",
       "      <td>1.690981</td>\n",
       "      <td>-0.949716</td>\n",
       "      <td>-0.118056</td>\n",
       "      <td>-0.522461</td>\n",
       "      <td>0.0</td>\n",
       "      <td>-0.464262</td>\n",
       "      <td>-0.074355</td>\n",
       "      <td>-0.2428</td>\n",
       "    </tr>\n",
       "    <tr>\n",
       "      <th>5</th>\n",
       "      <td>0.072871</td>\n",
       "      <td>0.675727</td>\n",
       "      <td>0.386666</td>\n",
       "      <td>1.397416</td>\n",
       "      <td>-0.517687</td>\n",
       "      <td>0.954704</td>\n",
       "      <td>0.735375</td>\n",
       "      <td>1.398450</td>\n",
       "      <td>0.508561</td>\n",
       "      <td>-0.28919</td>\n",
       "      <td>...</td>\n",
       "      <td>-0.126734</td>\n",
       "      <td>-0.152338</td>\n",
       "      <td>-0.591373</td>\n",
       "      <td>-0.949716</td>\n",
       "      <td>-0.118056</td>\n",
       "      <td>1.914017</td>\n",
       "      <td>0.0</td>\n",
       "      <td>-0.464262</td>\n",
       "      <td>-0.074355</td>\n",
       "      <td>-0.2428</td>\n",
       "    </tr>\n",
       "  </tbody>\n",
       "</table>\n",
       "<p>5 rows × 363 columns</p>\n",
       "</div>"
      ],
      "text/plain": [
       "    MSSubClass  LotFrontage   LotArea  OverallQual  OverallCond  YearBuilt  \\\n",
       "Id                                                                           \n",
       "1     0.072871    -0.086280 -0.202548     0.666823    -0.517687   1.054053   \n",
       "2    -0.871698     0.530546 -0.085922    -0.063770     2.175642   0.159914   \n",
       "3     0.072871     0.047605  0.081411     0.666823    -0.517687   0.987820   \n",
       "4     0.309014    -0.323562 -0.090993     0.666823    -0.517687  -1.860177   \n",
       "5     0.072871     0.675727  0.386666     1.397416    -0.517687   0.954704   \n",
       "\n",
       "    YearRemodAdd  MasVnrArea  BsmtFinSF1  BsmtFinSF2  ...  HasFireplace_Ex  \\\n",
       "Id                                                    ...                    \n",
       "1       0.880646    0.528207    0.627235    -0.28919  ...        -0.126734   \n",
       "2      -0.426795   -0.579375    1.260159    -0.28919  ...        -0.126734   \n",
       "3       0.832223    0.336075    0.115310    -0.28919  ...        -0.126734   \n",
       "4      -0.717337   -0.579375   -0.512961    -0.28919  ...        -0.126734   \n",
       "5       0.735375    1.398450    0.508561    -0.28919  ...        -0.126734   \n",
       "\n",
       "    HasFireplace_Fa  HasFireplace_Gd  HasFireplace_NA  HasFireplace_Po  \\\n",
       "Id                                                                       \n",
       "1         -0.152338        -0.591373         1.052946        -0.118056   \n",
       "2         -0.152338        -0.591373        -0.949716        -0.118056   \n",
       "3         -0.152338        -0.591373        -0.949716        -0.118056   \n",
       "4         -0.152338         1.690981        -0.949716        -0.118056   \n",
       "5         -0.152338        -0.591373        -0.949716        -0.118056   \n",
       "\n",
       "    HasFireplace_TA  HasFireplace_nan  MasVnrArea_nan  GarageYrBlt_nan  \\\n",
       "Id                                                                       \n",
       "1         -0.522461               0.0       -0.464262        -0.074355   \n",
       "2          1.914017               0.0       -0.464262        -0.074355   \n",
       "3          1.914017               0.0       -0.464262        -0.074355   \n",
       "4         -0.522461               0.0       -0.464262        -0.074355   \n",
       "5          1.914017               0.0       -0.464262        -0.074355   \n",
       "\n",
       "    LotFrontage_nan  \n",
       "Id                   \n",
       "1           -0.2428  \n",
       "2           -0.2428  \n",
       "3           -0.2428  \n",
       "4           -0.2428  \n",
       "5           -0.2428  \n",
       "\n",
       "[5 rows x 363 columns]"
      ]
     },
     "execution_count": 30,
     "metadata": {},
     "output_type": "execute_result"
    }
   ],
   "source": [
    "features_final.head()"
   ]
  },
  {
   "cell_type": "markdown",
   "metadata": {},
   "source": [
    "### Shuffle and Split Data\n",
    "Now all _categorical variables_ have been converted into numerical features, and all numerical features have been normalized. As always, we will now split the data (both features and their labels) into training and test sets. 80% of the data will be used for training and 20% for testing.\n",
    "\n",
    "Run the code cell below to perform this split."
   ]
  },
  {
   "cell_type": "code",
   "execution_count": null,
   "metadata": {},
   "outputs": [],
   "source": [
    "# train_test_split\n",
    "from sklearn.model_selection import train_test_split\n",
    "\n",
    "# Split the 'features' and 'income' data into training and testing sets\n",
    "X_train, X_test, y_train, y_test = train_test_split(features_final, \n",
    "                                                    saleprice, \n",
    "                                                    test_size = 0.2,\n",
    "                                                    random_state = 5)\n",
    "\n",
    "# Show the results of the split\n",
    "print(f'Training set has {X_train.shape[0]} samples.')\n",
    "print(f'Testing set has {X_test.shape[0]} samples.')"
   ]
  },
  {
   "cell_type": "code",
   "execution_count": null,
   "metadata": {},
   "outputs": [],
   "source": [
    "# Stratified Shuffle Split - Come back to this later\n",
    "# from sklearn.model_selection import StratifiedShuffleSplit\n",
    "# ss = StratifiedShuffleSplit(test_size=0.2, random_state=5)\n",
    "\n",
    "# i = 0\n",
    "# for train_idx, test_idx in ss.split(np.zeros(features_final.shape[0]), features_final['OverallQual']):\n",
    "#     X_train = features_final.iloc[train_idx]\n",
    "#     y_train = saleprice.iloc[train_idx]\n",
    "#     X_test = features_final.iloc[test_idx]\n",
    "#     y_test = saleprice.iloc[test_idx]\n",
    "\n",
    "# # Show the results of the split\n",
    "# print(f'Training set has {X_train.shape[0]} samples.')\n",
    "# print(f'Testing set has {X_test.shape[0]} samples.')"
   ]
  }
 ],
 "metadata": {
  "kernelspec": {
   "display_name": "HousingEnv",
   "language": "python",
   "name": "housingenv"
  },
  "language_info": {
   "codemirror_mode": {
    "name": "ipython",
    "version": 3
   },
   "file_extension": ".py",
   "mimetype": "text/x-python",
   "name": "python",
   "nbconvert_exporter": "python",
   "pygments_lexer": "ipython3",
   "version": "3.8.5"
  }
 },
 "nbformat": 4,
 "nbformat_minor": 4
}
